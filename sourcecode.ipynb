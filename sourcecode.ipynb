{
 "cells": [
  {
   "cell_type": "code",
   "execution_count": 239,
   "metadata": {},
   "outputs": [],
   "source": [
    "import boto3\n",
    "import requests\n",
    "import json\n",
    "import random\n",
    "import string"
   ]
  },
  {
   "cell_type": "code",
   "execution_count": 240,
   "metadata": {},
   "outputs": [],
   "source": [
    "gameapi_url = \"https://ulbwk3dfye.execute-api.us-east-1.amazonaws.com/FetchGameDetailsFunction\""
   ]
  },
  {
   "cell_type": "code",
   "execution_count": 241,
   "metadata": {},
   "outputs": [],
   "source": [
    "request_type = random.randint(1,3)\n",
    "request_method = \"POST\"\n",
    "\n",
    "match request_type:\n",
    "    case 1:\n",
    "        \n",
    "        request_method = \"POST\"\n",
    "    \n",
    "    case 2:\n",
    "        \n",
    "        request_method = \"PUT\"\n",
    "\n",
    "    case 3:\n",
    "\n",
    "        request_method = \"DELETE\"\n",
    "    "
   ]
  },
  {
   "cell_type": "code",
   "execution_count": 242,
   "metadata": {},
   "outputs": [],
   "source": [
    "## Construct Player Details Object for request body\n",
    "\n",
    "## Player Details Player Name, Player Id, Player Score\n",
    "\n",
    "playerData={}\n",
    "\n",
    "playerData[\"playerName\"] = \"\".join(random.choices(string.ascii_lowercase, k = 7))\n",
    "playerData[\"playerId\"] = random.randint(1,10000)\n",
    "playerData[\"playerscore\"] = random.randint(1,1000)\n",
    "\n",
    "playerData_json = json.dumps(playerData)"
   ]
  },
  {
   "cell_type": "code",
   "execution_count": 243,
   "metadata": {},
   "outputs": [],
   "source": [
    "request_headers  = {\n",
    "    'Content-Type': 'application/json'\n",
    "}"
   ]
  },
  {
   "cell_type": "code",
   "execution_count": 244,
   "metadata": {},
   "outputs": [
    {
     "name": "stdout",
     "output_type": "stream",
     "text": [
      "{\"playerName\": \"uqtusls\", \"playerId\": 3732, \"playerscore\": 734, \"NewScore\": 920}\n"
     ]
    }
   ],
   "source": [
    "request_response_status_code = 0\n",
    "\n",
    "match request_type:\n",
    "    case 1:\n",
    "        request_response = requests.request(request_method,gameapi_url,headers = request_headers, data = playerData_json)\n",
    "        request_response_status_code = request_response.status_code\n",
    "\n",
    "    case 2:\n",
    "        playerData[\"NewScore\"] = random.randint(1,1000)\n",
    "        playerData_json = json.dumps(playerData)\n",
    "        request_response = requests.request(request_method,gameapi_url,headers= request_headers, data= playerData_json)\n",
    "        request_response_status_code = request_response.status_code\n",
    "\n",
    "    case 3:\n",
    "        playerData_json = json.dumps(playerData)\n",
    "        request_response = requests.request(request_method,gameapi_url,headers= request_headers, data= playerData_json)\n",
    "        request_response_status_code = request_response.status_code\n",
    "\n",
    "if request_response_status_code !=200:\n",
    "    print(request_method + \" exits with status code \" + str(request_response_status_code))\n",
    "\n",
    "print(playerData_json)\n",
    "\n",
    "    "
   ]
  }
 ],
 "metadata": {
  "kernelspec": {
   "display_name": "gameevents_venv",
   "language": "python",
   "name": "python3"
  },
  "language_info": {
   "codemirror_mode": {
    "name": "ipython",
    "version": 3
   },
   "file_extension": ".py",
   "mimetype": "text/x-python",
   "name": "python",
   "nbconvert_exporter": "python",
   "pygments_lexer": "ipython3",
   "version": "3.11.5"
  },
  "orig_nbformat": 4
 },
 "nbformat": 4,
 "nbformat_minor": 2
}
